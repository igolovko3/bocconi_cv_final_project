{
 "cells": [
  {
   "cell_type": "code",
   "execution_count": 1,
   "id": "332ee8ad",
   "metadata": {
    "execution": {
     "iopub.execute_input": "2022-12-05T17:23:12.065626Z",
     "iopub.status.busy": "2022-12-05T17:23:12.064766Z",
     "iopub.status.idle": "2022-12-05T17:23:16.628734Z",
     "shell.execute_reply": "2022-12-05T17:23:16.627694Z"
    },
    "papermill": {
     "duration": 4.572046,
     "end_time": "2022-12-05T17:23:16.631293",
     "exception": false,
     "start_time": "2022-12-05T17:23:12.059247",
     "status": "completed"
    },
    "tags": []
   },
   "outputs": [],
   "source": [
    "import numpy as np\n",
    "import tensorflow as tf\n",
    "from tensorflow import keras\n",
    "from tensorflow.keras.preprocessing.image import ImageDataGenerator\n",
    "from keras.models import Model\n",
    "from keras.layers import Flatten, Dense\n",
    "from tensorflow.keras.applications.resnet50 import ResNet50\n",
    "from tensorflow.keras.applications.resnet50 import preprocess_input\n",
    "from tensorflow.keras.callbacks import CSVLogger, EarlyStopping\n",
    "from glob import glob\n",
    "import matplotlib.pyplot as plt"
   ]
  },
  {
   "cell_type": "code",
   "execution_count": 2,
   "id": "7b307c66",
   "metadata": {
    "execution": {
     "iopub.execute_input": "2022-12-05T17:23:16.637689Z",
     "iopub.status.busy": "2022-12-05T17:23:16.637124Z",
     "iopub.status.idle": "2022-12-05T17:23:27.335579Z",
     "shell.execute_reply": "2022-12-05T17:23:27.333881Z"
    },
    "papermill": {
     "duration": 10.703913,
     "end_time": "2022-12-05T17:23:27.338024",
     "exception": false,
     "start_time": "2022-12-05T17:23:16.634111",
     "status": "completed"
    },
    "tags": []
   },
   "outputs": [
    {
     "name": "stdout",
     "output_type": "stream",
     "text": [
      "Total Classes = 131\n",
      "Found 67692 images belonging to 131 classes.\n",
      "Found 22688 images belonging to 131 classes.\n"
     ]
    }
   ],
   "source": [
    "#based on https://www.kaggle.com/code/pankul/image-classification-w-vgg16-weights\n",
    "IMAGE_SIZE = [100, 100]  \n",
    "batch_size = 64\n",
    "nb_epochs = 10\n",
    "train_data_dir = '../input/fruits/fruits-360_dataset/fruits-360/Training'\n",
    "test_data_dir = '../input/fruits/fruits-360_dataset/fruits-360/Test'\n",
    "\n",
    "# getting the number of classes i.e. type of fruits\n",
    "folders = glob(train_data_dir + '/*')\n",
    "num_classes = len(folders)\n",
    "print ('Total Classes = ' + str(num_classes))\n",
    "\n",
    "datagen = ImageDataGenerator(rescale=1./255,preprocessing_function=preprocess_input)\n",
    "\n",
    "train_gen = datagen.flow_from_directory(train_data_dir, target_size = IMAGE_SIZE, batch_size = batch_size, class_mode = 'categorical')\n",
    "test_gen = datagen.flow_from_directory(test_data_dir, target_size = IMAGE_SIZE, batch_size = batch_size, class_mode = 'categorical')"
   ]
  },
  {
   "cell_type": "code",
   "execution_count": 3,
   "id": "d1c26c96",
   "metadata": {
    "execution": {
     "iopub.execute_input": "2022-12-05T17:23:27.345491Z",
     "iopub.status.busy": "2022-12-05T17:23:27.343840Z",
     "iopub.status.idle": "2022-12-05T17:23:36.072756Z",
     "shell.execute_reply": "2022-12-05T17:23:36.071781Z"
    },
    "papermill": {
     "duration": 8.734466,
     "end_time": "2022-12-05T17:23:36.075133",
     "exception": false,
     "start_time": "2022-12-05T17:23:27.340667",
     "status": "completed"
    },
    "tags": []
   },
   "outputs": [
    {
     "name": "stderr",
     "output_type": "stream",
     "text": [
      "2022-12-05 17:23:27.451527: I tensorflow/stream_executor/cuda/cuda_gpu_executor.cc:937] successful NUMA node read from SysFS had negative value (-1), but there must be at least one NUMA node, so returning NUMA node zero\n",
      "2022-12-05 17:23:27.536944: I tensorflow/stream_executor/cuda/cuda_gpu_executor.cc:937] successful NUMA node read from SysFS had negative value (-1), but there must be at least one NUMA node, so returning NUMA node zero\n",
      "2022-12-05 17:23:27.537929: I tensorflow/stream_executor/cuda/cuda_gpu_executor.cc:937] successful NUMA node read from SysFS had negative value (-1), but there must be at least one NUMA node, so returning NUMA node zero\n",
      "2022-12-05 17:23:27.540256: I tensorflow/core/platform/cpu_feature_guard.cc:142] This TensorFlow binary is optimized with oneAPI Deep Neural Network Library (oneDNN) to use the following CPU instructions in performance-critical operations:  AVX2 AVX512F FMA\n",
      "To enable them in other operations, rebuild TensorFlow with the appropriate compiler flags.\n",
      "2022-12-05 17:23:27.540567: I tensorflow/stream_executor/cuda/cuda_gpu_executor.cc:937] successful NUMA node read from SysFS had negative value (-1), but there must be at least one NUMA node, so returning NUMA node zero\n",
      "2022-12-05 17:23:27.541262: I tensorflow/stream_executor/cuda/cuda_gpu_executor.cc:937] successful NUMA node read from SysFS had negative value (-1), but there must be at least one NUMA node, so returning NUMA node zero\n",
      "2022-12-05 17:23:27.541915: I tensorflow/stream_executor/cuda/cuda_gpu_executor.cc:937] successful NUMA node read from SysFS had negative value (-1), but there must be at least one NUMA node, so returning NUMA node zero\n",
      "2022-12-05 17:23:29.556549: I tensorflow/stream_executor/cuda/cuda_gpu_executor.cc:937] successful NUMA node read from SysFS had negative value (-1), but there must be at least one NUMA node, so returning NUMA node zero\n",
      "2022-12-05 17:23:29.557349: I tensorflow/stream_executor/cuda/cuda_gpu_executor.cc:937] successful NUMA node read from SysFS had negative value (-1), but there must be at least one NUMA node, so returning NUMA node zero\n",
      "2022-12-05 17:23:29.558033: I tensorflow/stream_executor/cuda/cuda_gpu_executor.cc:937] successful NUMA node read from SysFS had negative value (-1), but there must be at least one NUMA node, so returning NUMA node zero\n",
      "2022-12-05 17:23:29.558659: I tensorflow/core/common_runtime/gpu/gpu_device.cc:1510] Created device /job:localhost/replica:0/task:0/device:GPU:0 with 15401 MB memory:  -> device: 0, name: Tesla P100-PCIE-16GB, pci bus id: 0000:00:04.0, compute capability: 6.0\n"
     ]
    },
    {
     "name": "stdout",
     "output_type": "stream",
     "text": [
      "Downloading data from https://storage.googleapis.com/tensorflow/keras-applications/resnet/resnet50_weights_tf_dim_ordering_tf_kernels_notop.h5\n",
      "94773248/94765736 [==============================] - 4s 0us/step\n",
      "94781440/94765736 [==============================] - 4s 0us/step\n"
     ]
    }
   ],
   "source": [
    "# loading the weights of ResNet50 without the top layer. These weights are trained on Imagenet dataset.\n",
    "vgg = ResNet50(input_shape = IMAGE_SIZE + [3], weights = 'imagenet', include_top = False)\n",
    "\n",
    "# this will exclude the initial layers from training phase as there are already been trained.\n",
    "for layer in vgg.layers:\n",
    "    layer.trainable = False\n",
    "\n",
    "x = Flatten()(vgg.output)\n",
    "x = Dense(1024, activation = 'relu')(x)\n",
    "x = Dense(256, activation = 'relu')(x)\n",
    "x = Dense(num_classes, activation = 'softmax')(x)\n",
    "model = Model(inputs = vgg.input, outputs = x)\n",
    "\n",
    "model = Model(inputs = vgg.input, outputs = x)\n",
    "\n",
    "model.compile(loss='categorical_crossentropy', optimizer='adam', metrics=['acc'])"
   ]
  },
  {
   "cell_type": "code",
   "execution_count": 4,
   "id": "2acf283b",
   "metadata": {
    "execution": {
     "iopub.execute_input": "2022-12-05T17:23:36.089141Z",
     "iopub.status.busy": "2022-12-05T17:23:36.088859Z",
     "iopub.status.idle": "2022-12-05T17:23:36.094330Z",
     "shell.execute_reply": "2022-12-05T17:23:36.093493Z"
    },
    "papermill": {
     "duration": 0.014576,
     "end_time": "2022-12-05T17:23:36.096315",
     "exception": false,
     "start_time": "2022-12-05T17:23:36.081739",
     "status": "completed"
    },
    "tags": []
   },
   "outputs": [],
   "source": [
    "earlystop = EarlyStopping(\n",
    "    monitor='val_acc',\n",
    "    min_delta=0.005,\n",
    "    patience=5,\n",
    "    verbose=1,\n",
    ")"
   ]
  },
  {
   "cell_type": "code",
   "execution_count": 5,
   "id": "768ec3b3",
   "metadata": {
    "execution": {
     "iopub.execute_input": "2022-12-05T17:23:36.110072Z",
     "iopub.status.busy": "2022-12-05T17:23:36.109778Z",
     "iopub.status.idle": "2022-12-05T18:06:02.833409Z",
     "shell.execute_reply": "2022-12-05T18:06:02.832438Z"
    },
    "papermill": {
     "duration": 2547.714892,
     "end_time": "2022-12-05T18:06:03.817504",
     "exception": false,
     "start_time": "2022-12-05T17:23:36.102612",
     "status": "completed"
    },
    "tags": []
   },
   "outputs": [
    {
     "name": "stderr",
     "output_type": "stream",
     "text": [
      "2022-12-05 17:23:36.478063: I tensorflow/compiler/mlir/mlir_graph_optimization_pass.cc:185] None of the MLIR Optimization Passes are enabled (registered 2)\n"
     ]
    },
    {
     "name": "stdout",
     "output_type": "stream",
     "text": [
      "Epoch 1/30\n"
     ]
    },
    {
     "name": "stderr",
     "output_type": "stream",
     "text": [
      "2022-12-05 17:23:40.377005: I tensorflow/stream_executor/cuda/cuda_dnn.cc:369] Loaded cuDNN version 8005\n"
     ]
    },
    {
     "name": "stdout",
     "output_type": "stream",
     "text": [
      "1058/1058 [==============================] - 405s 375ms/step - loss: 2.8956 - acc: 0.2681 - val_loss: 2.0359 - val_acc: 0.4746\n",
      "Epoch 2/30\n",
      "1058/1058 [==============================] - 123s 116ms/step - loss: 1.2724 - acc: 0.6050 - val_loss: 1.5032 - val_acc: 0.6056\n",
      "Epoch 3/30\n",
      "1058/1058 [==============================] - 123s 116ms/step - loss: 0.8488 - acc: 0.7269 - val_loss: 1.3209 - val_acc: 0.6515\n",
      "Epoch 4/30\n",
      "1058/1058 [==============================] - 126s 119ms/step - loss: 0.6121 - acc: 0.7985 - val_loss: 1.3209 - val_acc: 0.6623\n",
      "Epoch 5/30\n",
      "1058/1058 [==============================] - 128s 120ms/step - loss: 0.4810 - acc: 0.8410 - val_loss: 1.1240 - val_acc: 0.6990\n",
      "Epoch 6/30\n",
      "1058/1058 [==============================] - 131s 124ms/step - loss: 0.4032 - acc: 0.8660 - val_loss: 1.0648 - val_acc: 0.7442\n",
      "Epoch 7/30\n",
      "1058/1058 [==============================] - 130s 123ms/step - loss: 0.3568 - acc: 0.8802 - val_loss: 1.0340 - val_acc: 0.7437\n",
      "Epoch 8/30\n",
      "1058/1058 [==============================] - 148s 140ms/step - loss: 0.2991 - acc: 0.8988 - val_loss: 0.9928 - val_acc: 0.7557\n",
      "Epoch 9/30\n",
      "1058/1058 [==============================] - 130s 122ms/step - loss: 0.2670 - acc: 0.9096 - val_loss: 1.0376 - val_acc: 0.7582\n",
      "Epoch 10/30\n",
      "1058/1058 [==============================] - 131s 123ms/step - loss: 0.2346 - acc: 0.9194 - val_loss: 1.4855 - val_acc: 0.6802\n",
      "Epoch 11/30\n",
      "1058/1058 [==============================] - 147s 139ms/step - loss: 0.2304 - acc: 0.9214 - val_loss: 0.8237 - val_acc: 0.8225\n",
      "Epoch 12/30\n",
      "1058/1058 [==============================] - 131s 124ms/step - loss: 0.2232 - acc: 0.9241 - val_loss: 0.9176 - val_acc: 0.8013\n",
      "Epoch 13/30\n",
      "1058/1058 [==============================] - 132s 125ms/step - loss: 0.1944 - acc: 0.9339 - val_loss: 0.8419 - val_acc: 0.8162\n",
      "Epoch 14/30\n",
      "1058/1058 [==============================] - 133s 125ms/step - loss: 0.1798 - acc: 0.9392 - val_loss: 0.9565 - val_acc: 0.7931\n",
      "Epoch 15/30\n",
      "1058/1058 [==============================] - 130s 123ms/step - loss: 0.1928 - acc: 0.9348 - val_loss: 1.0380 - val_acc: 0.7681\n",
      "Epoch 16/30\n",
      "1058/1058 [==============================] - 132s 124ms/step - loss: 0.1750 - acc: 0.9417 - val_loss: 0.9289 - val_acc: 0.8187\n",
      "Epoch 00016: early stopping\n"
     ]
    }
   ],
   "source": [
    "history = model.fit(train_gen,  \n",
    "                   epochs = 30,  \n",
    "                   validation_data = test_gen,\n",
    "                   callbacks=[earlystop,]) "
   ]
  },
  {
   "cell_type": "code",
   "execution_count": 6,
   "id": "4f2f336f",
   "metadata": {
    "execution": {
     "iopub.execute_input": "2022-12-05T18:06:05.659286Z",
     "iopub.status.busy": "2022-12-05T18:06:05.658940Z",
     "iopub.status.idle": "2022-12-05T18:06:13.384640Z",
     "shell.execute_reply": "2022-12-05T18:06:13.383747Z"
    },
    "papermill": {
     "duration": 8.605412,
     "end_time": "2022-12-05T18:06:13.386679",
     "exception": false,
     "start_time": "2022-12-05T18:06:04.781267",
     "status": "completed"
    },
    "tags": []
   },
   "outputs": [
    {
     "data": {
      "image/png": "[encoded data removed]",
      "text/plain": [
       "<Figure size 432x288 with 1 Axes>"
      ]
     },
     "metadata": {
      "needs_background": "light"
     },
     "output_type": "display_data"
    },
    {
     "data": {
      "image/png": "[encoded data removed]",
      "text/plain": [
       "<Figure size 432x288 with 1 Axes>"
      ]
     },
     "metadata": {
      "needs_background": "light"
     },
     "output_type": "display_data"
    }
   ],
   "source": [
    "acc = history.history['acc']\n",
    "val_acc = history.history['val_acc']\n",
    "loss = history.history['loss']\n",
    "val_loss = history.history['val_loss']\n",
    "\n",
    "epochs = range(len(acc))\n",
    "\n",
    "plt.plot(epochs, acc, 'bo', label='Training acc')\n",
    "plt.plot(epochs, val_acc, 'b', label='Validation acc')\n",
    "plt.title('Training and validation accuracy')\n",
    "plt.legend()\n",
    "\n",
    "plt.figure()\n",
    "\n",
    "plt.plot(epochs, loss, 'bo', label='Training loss')\n",
    "plt.plot(epochs, val_loss, 'b', label='Validation loss')\n",
    "plt.title('Training and validation loss')\n",
    "plt.legend()\n",
    "\n",
    "plt.show()"
   ]
  }
 ],
 "metadata": {
  "kernelspec": {
   "display_name": "Python 3",
   "language": "python",
   "name": "python3"
  },
  "language_info": {
   "codemirror_mode": {
    "name": "ipython",
    "version": 3
   },
   "file_extension": ".py",
   "mimetype": "text/x-python",
   "name": "python",
   "nbconvert_exporter": "python",
   "pygments_lexer": "ipython3",
   "version": "3.7.12"
  },
  "papermill": {
   "default_parameters": {},
   "duration": 2593.080294,
   "end_time": "2022-12-05T18:06:17.479200",
   "environment_variables": {},
   "exception": null,
   "input_path": "__notebook__.ipynb",
   "output_path": "__notebook__.ipynb",
   "parameters": {},
   "start_time": "2022-12-05T17:23:04.398906",
   "version": "2.3.4"
  }
 },
 "nbformat": 4,
 "nbformat_minor": 5
}
