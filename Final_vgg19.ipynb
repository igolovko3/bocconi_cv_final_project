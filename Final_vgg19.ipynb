{
 "cells": [
  {
   "cell_type": "code",
   "execution_count": 1,
   "id": "1e9868e5",
   "metadata": {
    "execution": {
     "iopub.execute_input": "2022-12-04T20:57:13.866809Z",
     "iopub.status.busy": "2022-12-04T20:57:13.866296Z",
     "iopub.status.idle": "2022-12-04T20:57:19.030754Z",
     "shell.execute_reply": "2022-12-04T20:57:19.029686Z"
    },
    "papermill": {
     "duration": 5.172226,
     "end_time": "2022-12-04T20:57:19.033418",
     "exception": false,
     "start_time": "2022-12-04T20:57:13.861192",
     "status": "completed"
    },
    "tags": []
   },
   "outputs": [],
   "source": [
    "import numpy as np\n",
    "import tensorflow as tf\n",
    "from tensorflow import keras\n",
    "from tensorflow.keras.preprocessing.image import ImageDataGenerator\n",
    "from keras.models import Model\n",
    "from keras.layers import Flatten, Dense\n",
    "from tensorflow.keras.applications import VGG19\n",
    "from keras.applications.vgg19 import preprocess_input\n",
    "from tensorflow.keras.callbacks import CSVLogger, EarlyStopping\n",
    "from glob import glob\n",
    "import matplotlib.pyplot as plt"
   ]
  },
  {
   "cell_type": "code",
   "execution_count": 2,
   "id": "380e38db",
   "metadata": {
    "execution": {
     "iopub.execute_input": "2022-12-04T20:57:19.040548Z",
     "iopub.status.busy": "2022-12-04T20:57:19.039424Z",
     "iopub.status.idle": "2022-12-04T20:57:32.778573Z",
     "shell.execute_reply": "2022-12-04T20:57:32.777628Z"
    },
    "papermill": {
     "duration": 13.744626,
     "end_time": "2022-12-04T20:57:32.780677",
     "exception": false,
     "start_time": "2022-12-04T20:57:19.036051",
     "status": "completed"
    },
    "tags": []
   },
   "outputs": [
    {
     "name": "stdout",
     "output_type": "stream",
     "text": [
      "Total Classes = 131\n",
      "Found 67692 files belonging to 131 classes.\n"
     ]
    },
    {
     "name": "stderr",
     "output_type": "stream",
     "text": [
      "2022-12-04 20:57:23.854060: I tensorflow/stream_executor/cuda/cuda_gpu_executor.cc:937] successful NUMA node read from SysFS had negative value (-1), but there must be at least one NUMA node, so returning NUMA node zero\n",
      "2022-12-04 20:57:23.943825: I tensorflow/stream_executor/cuda/cuda_gpu_executor.cc:937] successful NUMA node read from SysFS had negative value (-1), but there must be at least one NUMA node, so returning NUMA node zero\n",
      "2022-12-04 20:57:23.944597: I tensorflow/stream_executor/cuda/cuda_gpu_executor.cc:937] successful NUMA node read from SysFS had negative value (-1), but there must be at least one NUMA node, so returning NUMA node zero\n",
      "2022-12-04 20:57:23.946476: I tensorflow/core/platform/cpu_feature_guard.cc:142] This TensorFlow binary is optimized with oneAPI Deep Neural Network Library (oneDNN) to use the following CPU instructions in performance-critical operations:  AVX2 AVX512F FMA\n",
      "To enable them in other operations, rebuild TensorFlow with the appropriate compiler flags.\n",
      "2022-12-04 20:57:23.946751: I tensorflow/stream_executor/cuda/cuda_gpu_executor.cc:937] successful NUMA node read from SysFS had negative value (-1), but there must be at least one NUMA node, so returning NUMA node zero\n",
      "2022-12-04 20:57:23.947435: I tensorflow/stream_executor/cuda/cuda_gpu_executor.cc:937] successful NUMA node read from SysFS had negative value (-1), but there must be at least one NUMA node, so returning NUMA node zero\n",
      "2022-12-04 20:57:23.948053: I tensorflow/stream_executor/cuda/cuda_gpu_executor.cc:937] successful NUMA node read from SysFS had negative value (-1), but there must be at least one NUMA node, so returning NUMA node zero\n",
      "2022-12-04 20:57:25.912080: I tensorflow/stream_executor/cuda/cuda_gpu_executor.cc:937] successful NUMA node read from SysFS had negative value (-1), but there must be at least one NUMA node, so returning NUMA node zero\n",
      "2022-12-04 20:57:25.912856: I tensorflow/stream_executor/cuda/cuda_gpu_executor.cc:937] successful NUMA node read from SysFS had negative value (-1), but there must be at least one NUMA node, so returning NUMA node zero\n",
      "2022-12-04 20:57:25.913556: I tensorflow/stream_executor/cuda/cuda_gpu_executor.cc:937] successful NUMA node read from SysFS had negative value (-1), but there must be at least one NUMA node, so returning NUMA node zero\n",
      "2022-12-04 20:57:25.914158: I tensorflow/core/common_runtime/gpu/gpu_device.cc:1510] Created device /job:localhost/replica:0/task:0/device:GPU:0 with 15401 MB memory:  -> device: 0, name: Tesla P100-PCIE-16GB, pci bus id: 0000:00:04.0, compute capability: 6.0\n"
     ]
    },
    {
     "name": "stdout",
     "output_type": "stream",
     "text": [
      "Found 22688 files belonging to 131 classes.\n",
      "Found 67692 images belonging to 131 classes.\n",
      "Found 22688 images belonging to 131 classes.\n"
     ]
    }
   ],
   "source": [
    "#based on https://www.kaggle.com/code/pankul/image-classification-w-vgg16-weights\n",
    "IMAGE_SIZE = [100, 100]  \n",
    "batch_size = 64\n",
    "nb_epochs = 10\n",
    "train_data_dir = '../input/fruits/fruits-360_dataset/fruits-360/Training'\n",
    "test_data_dir = '../input/fruits/fruits-360_dataset/fruits-360/Test'\n",
    "\n",
    "# getting the number of classes i.e. type of fruits\n",
    "folders = glob(train_data_dir + '/*')\n",
    "num_classes = len(folders)\n",
    "print ('Total Classes = ' + str(num_classes))\n",
    "\n",
    "train_ds = tf.keras.utils.image_dataset_from_directory(\n",
    "  train_data_dir,\n",
    "  image_size=IMAGE_SIZE,\n",
    "  batch_size=batch_size)\n",
    "\n",
    "test_ds = tf.keras.utils.image_dataset_from_directory(\n",
    "  test_data_dir,\n",
    "  image_size=IMAGE_SIZE,\n",
    "  batch_size=batch_size)\n",
    "\n",
    "datagen = ImageDataGenerator(rescale=1./255,preprocessing_function=preprocess_input)\n",
    "\n",
    "train_gen = datagen.flow_from_directory(train_data_dir, target_size = IMAGE_SIZE, batch_size = batch_size, class_mode = 'categorical')\n",
    "test_gen = datagen.flow_from_directory(test_data_dir, target_size = IMAGE_SIZE, batch_size = batch_size, class_mode = 'categorical')"
   ]
  },
  {
   "cell_type": "code",
   "execution_count": 3,
   "id": "985657c3",
   "metadata": {
    "execution": {
     "iopub.execute_input": "2022-12-04T20:57:32.787378Z",
     "iopub.status.busy": "2022-12-04T20:57:32.786562Z",
     "iopub.status.idle": "2022-12-04T20:57:37.571843Z",
     "shell.execute_reply": "2022-12-04T20:57:37.570883Z"
    },
    "papermill": {
     "duration": 4.791066,
     "end_time": "2022-12-04T20:57:37.574296",
     "exception": false,
     "start_time": "2022-12-04T20:57:32.783230",
     "status": "completed"
    },
    "tags": []
   },
   "outputs": [
    {
     "name": "stdout",
     "output_type": "stream",
     "text": [
      "Downloading data from https://storage.googleapis.com/tensorflow/keras-applications/vgg19/vgg19_weights_tf_dim_ordering_tf_kernels_notop.h5\n",
      "80142336/80134624 [==============================] - 4s 0us/step\n",
      "80150528/80134624 [==============================] - 4s 0us/step\n"
     ]
    }
   ],
   "source": [
    "# loading the weights of VGG16 without the top layer. These weights are trained on Imagenet dataset.\n",
    "vgg = VGG19(input_shape = IMAGE_SIZE + [3], weights = 'imagenet', include_top = False)  # input_shape = (64,64,3) as required by VGG\n",
    "\n",
    "# this will exclude the initial layers from training phase as there are already been trained.\n",
    "for layer in vgg.layers:\n",
    "    layer.trainable = False\n",
    "\n",
    "x = Flatten()(vgg.output)\n",
    "x = Dense(1024, activation = 'relu')(x)\n",
    "x = Dense(256, activation = 'relu')(x)\n",
    "x = Dense(num_classes, activation = 'softmax')(x)\n",
    "model = Model(inputs = vgg.input, outputs = x)\n",
    "\n",
    "model.compile(loss='categorical_crossentropy', optimizer='adam', metrics=['acc'])"
   ]
  },
  {
   "cell_type": "code",
   "execution_count": 4,
   "id": "4c4b441e",
   "metadata": {
    "execution": {
     "iopub.execute_input": "2022-12-04T20:57:37.588304Z",
     "iopub.status.busy": "2022-12-04T20:57:37.587583Z",
     "iopub.status.idle": "2022-12-04T20:57:37.592396Z",
     "shell.execute_reply": "2022-12-04T20:57:37.591481Z"
    },
    "papermill": {
     "duration": 0.013842,
     "end_time": "2022-12-04T20:57:37.594305",
     "exception": false,
     "start_time": "2022-12-04T20:57:37.580463",
     "status": "completed"
    },
    "tags": []
   },
   "outputs": [],
   "source": [
    "earlystop = EarlyStopping(\n",
    "    monitor='val_acc',\n",
    "    min_delta=0.005,\n",
    "    patience=5,\n",
    "    verbose=1,\n",
    ")"
   ]
  },
  {
   "cell_type": "code",
   "execution_count": 5,
   "id": "05a6e0d1",
   "metadata": {
    "execution": {
     "iopub.execute_input": "2022-12-04T20:57:37.606677Z",
     "iopub.status.busy": "2022-12-04T20:57:37.606412Z",
     "iopub.status.idle": "2022-12-04T21:35:10.000496Z",
     "shell.execute_reply": "2022-12-04T21:35:09.999320Z"
    },
    "papermill": {
     "duration": 2253.237266,
     "end_time": "2022-12-04T21:35:10.837275",
     "exception": false,
     "start_time": "2022-12-04T20:57:37.600009",
     "status": "completed"
    },
    "tags": []
   },
   "outputs": [
    {
     "name": "stderr",
     "output_type": "stream",
     "text": [
      "2022-12-04 20:57:38.331886: I tensorflow/compiler/mlir/mlir_graph_optimization_pass.cc:185] None of the MLIR Optimization Passes are enabled (registered 2)\n"
     ]
    },
    {
     "name": "stdout",
     "output_type": "stream",
     "text": [
      "Epoch 1/30\n"
     ]
    },
    {
     "name": "stderr",
     "output_type": "stream",
     "text": [
      "2022-12-04 20:57:40.571595: I tensorflow/stream_executor/cuda/cuda_dnn.cc:369] Loaded cuDNN version 8005\n"
     ]
    },
    {
     "name": "stdout",
     "output_type": "stream",
     "text": [
      "1058/1058 [==============================] - 644s 601ms/step - loss: 0.3867 - acc: 0.9148 - val_loss: 0.2033 - val_acc: 0.9438\n",
      "Epoch 2/30\n",
      "1058/1058 [==============================] - 113s 107ms/step - loss: 0.0349 - acc: 0.9906 - val_loss: 0.2183 - val_acc: 0.9417\n",
      "Epoch 3/30\n",
      "1058/1058 [==============================] - 116s 109ms/step - loss: 0.0249 - acc: 0.9929 - val_loss: 0.3734 - val_acc: 0.9191\n",
      "Epoch 4/30\n",
      "1058/1058 [==============================] - 114s 108ms/step - loss: 0.0299 - acc: 0.9912 - val_loss: 0.2578 - val_acc: 0.9481\n",
      "Epoch 5/30\n",
      "1058/1058 [==============================] - 114s 108ms/step - loss: 0.0214 - acc: 0.9941 - val_loss: 0.1682 - val_acc: 0.9619\n",
      "Epoch 6/30\n",
      "1058/1058 [==============================] - 117s 110ms/step - loss: 0.0014 - acc: 0.9998 - val_loss: 0.3052 - val_acc: 0.9391\n",
      "Epoch 7/30\n",
      "1058/1058 [==============================] - 113s 106ms/step - loss: 0.0280 - acc: 0.9918 - val_loss: 0.3044 - val_acc: 0.9368\n",
      "Epoch 8/30\n",
      "1058/1058 [==============================] - 116s 109ms/step - loss: 0.0077 - acc: 0.9977 - val_loss: 0.1531 - val_acc: 0.9698\n",
      "Epoch 9/30\n",
      "1058/1058 [==============================] - 113s 107ms/step - loss: 1.2601e-05 - acc: 1.0000 - val_loss: 0.1470 - val_acc: 0.9712\n",
      "Epoch 10/30\n",
      "1058/1058 [==============================] - 113s 107ms/step - loss: 6.1856e-06 - acc: 1.0000 - val_loss: 0.1474 - val_acc: 0.9715\n",
      "Epoch 11/30\n",
      "1058/1058 [==============================] - 115s 109ms/step - loss: 3.9480e-06 - acc: 1.0000 - val_loss: 0.1484 - val_acc: 0.9720\n",
      "Epoch 12/30\n",
      "1058/1058 [==============================] - 113s 107ms/step - loss: 2.5843e-06 - acc: 1.0000 - val_loss: 0.1485 - val_acc: 0.9724\n",
      "Epoch 13/30\n",
      "1058/1058 [==============================] - 117s 110ms/step - loss: 1.6551e-06 - acc: 1.0000 - val_loss: 0.1502 - val_acc: 0.9724\n",
      "Epoch 00013: early stopping\n"
     ]
    }
   ],
   "source": [
    "history = model.fit(train_gen,  \n",
    "                   epochs = 30,  \n",
    "                   validation_data = test_gen,\n",
    "                   callbacks=[earlystop,]) "
   ]
  },
  {
   "cell_type": "code",
   "execution_count": 6,
   "id": "d41227c5",
   "metadata": {
    "execution": {
     "iopub.execute_input": "2022-12-04T21:35:12.296087Z",
     "iopub.status.busy": "2022-12-04T21:35:12.295683Z",
     "iopub.status.idle": "2022-12-04T21:35:35.424523Z",
     "shell.execute_reply": "2022-12-04T21:35:35.423607Z"
    },
    "papermill": {
     "duration": 23.888319,
     "end_time": "2022-12-04T21:35:35.426578",
     "exception": false,
     "start_time": "2022-12-04T21:35:11.538259",
     "status": "completed"
    },
    "tags": []
   },
   "outputs": [
    {
     "data": {
      "image/png": "[encoded data removed]",
      "text/plain": [
       "<Figure size 432x288 with 1 Axes>"
      ]
     },
     "metadata": {
      "needs_background": "light"
     },
     "output_type": "display_data"
    },
    {
     "data": {
      "image/png": "[encoded data removed]",
      "text/plain": [
       "<Figure size 432x288 with 1 Axes>"
      ]
     },
     "metadata": {
      "needs_background": "light"
     },
     "output_type": "display_data"
    }
   ],
   "source": [
    "acc = history.history['acc']\n",
    "val_acc = history.history['val_acc']\n",
    "loss = history.history['loss']\n",
    "val_loss = history.history['val_loss']\n",
    "\n",
    "epochs = range(len(acc))\n",
    "\n",
    "plt.plot(epochs, acc, 'bo', label='Training acc')\n",
    "plt.plot(epochs, val_acc, 'b', label='Validation acc')\n",
    "plt.title('Training and validation accuracy')\n",
    "plt.legend()\n",
    "\n",
    "plt.figure()\n",
    "\n",
    "plt.plot(epochs, loss, 'bo', label='Training loss')\n",
    "plt.plot(epochs, val_loss, 'b', label='Validation loss')\n",
    "plt.title('Training and validation loss')\n",
    "plt.legend()\n",
    "\n",
    "plt.show()"
   ]
  }
 ],
 "metadata": {
  "kernelspec": {
   "display_name": "Python 3",
   "language": "python",
   "name": "python3"
  },
  "language_info": {
   "codemirror_mode": {
    "name": "ipython",
    "version": 3
   },
   "file_extension": ".py",
   "mimetype": "text/x-python",
   "name": "python",
   "nbconvert_exporter": "python",
   "pygments_lexer": "ipython3",
   "version": "3.7.12"
  },
  "papermill": {
   "default_parameters": {},
   "duration": 2312.559284,
   "end_time": "2022-12-04T21:35:38.890812",
   "environment_variables": {},
   "exception": null,
   "input_path": "__notebook__.ipynb",
   "output_path": "__notebook__.ipynb",
   "parameters": {},
   "start_time": "2022-12-04T20:57:06.331528",
   "version": "2.3.4"
  }
 },
 "nbformat": 4,
 "nbformat_minor": 5
}
