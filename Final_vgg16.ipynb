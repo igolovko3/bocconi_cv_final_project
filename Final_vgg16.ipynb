{
 "cells": [
  {
   "cell_type": "code",
   "execution_count": 1,
   "id": "6794ed2e",
   "metadata": {
    "execution": {
     "iopub.execute_input": "2022-12-04T20:55:18.220740Z",
     "iopub.status.busy": "2022-12-04T20:55:18.219743Z",
     "iopub.status.idle": "2022-12-04T20:55:28.255059Z",
     "shell.execute_reply": "2022-12-04T20:55:28.254084Z"
    },
    "papermill": {
     "duration": 10.042318,
     "end_time": "2022-12-04T20:55:28.257656",
     "exception": false,
     "start_time": "2022-12-04T20:55:18.215338",
     "status": "completed"
    },
    "tags": []
   },
   "outputs": [],
   "source": [
    "import numpy as np\n",
    "import tensorflow as tf\n",
    "from tensorflow import keras\n",
    "from tensorflow.keras.preprocessing.image import ImageDataGenerator\n",
    "from keras.models import Model\n",
    "from keras.layers import Flatten, Dense\n",
    "from tensorflow.keras.applications import VGG16\n",
    "from keras.applications.vgg16 import preprocess_input\n",
    "from tensorflow.keras.callbacks import CSVLogger, EarlyStopping\n",
    "from glob import glob\n",
    "import matplotlib.pyplot as plt"
   ]
  },
  {
   "cell_type": "code",
   "execution_count": 2,
   "id": "9843b680",
   "metadata": {
    "execution": {
     "iopub.execute_input": "2022-12-04T20:55:28.265074Z",
     "iopub.status.busy": "2022-12-04T20:55:28.263402Z",
     "iopub.status.idle": "2022-12-04T20:55:50.880093Z",
     "shell.execute_reply": "2022-12-04T20:55:50.878612Z"
    },
    "papermill": {
     "duration": 22.622153,
     "end_time": "2022-12-04T20:55:50.882438",
     "exception": false,
     "start_time": "2022-12-04T20:55:28.260285",
     "status": "completed"
    },
    "tags": []
   },
   "outputs": [
    {
     "name": "stdout",
     "output_type": "stream",
     "text": [
      "Total Classes = 131\n",
      "Found 67692 files belonging to 131 classes.\n"
     ]
    },
    {
     "name": "stderr",
     "output_type": "stream",
     "text": [
      "2022-12-04 20:55:37.560565: I tensorflow/stream_executor/cuda/cuda_gpu_executor.cc:937] successful NUMA node read from SysFS had negative value (-1), but there must be at least one NUMA node, so returning NUMA node zero\n",
      "2022-12-04 20:55:37.561644: I tensorflow/stream_executor/cuda/cuda_gpu_executor.cc:937] successful NUMA node read from SysFS had negative value (-1), but there must be at least one NUMA node, so returning NUMA node zero\n",
      "2022-12-04 20:55:37.846891: I tensorflow/stream_executor/cuda/cuda_gpu_executor.cc:937] successful NUMA node read from SysFS had negative value (-1), but there must be at least one NUMA node, so returning NUMA node zero\n",
      "2022-12-04 20:55:37.847752: I tensorflow/stream_executor/cuda/cuda_gpu_executor.cc:937] successful NUMA node read from SysFS had negative value (-1), but there must be at least one NUMA node, so returning NUMA node zero\n",
      "2022-12-04 20:55:37.848557: I tensorflow/stream_executor/cuda/cuda_gpu_executor.cc:937] successful NUMA node read from SysFS had negative value (-1), but there must be at least one NUMA node, so returning NUMA node zero\n",
      "2022-12-04 20:55:37.849317: I tensorflow/stream_executor/cuda/cuda_gpu_executor.cc:937] successful NUMA node read from SysFS had negative value (-1), but there must be at least one NUMA node, so returning NUMA node zero\n",
      "2022-12-04 20:55:37.853502: I tensorflow/core/platform/cpu_feature_guard.cc:142] This TensorFlow binary is optimized with oneAPI Deep Neural Network Library (oneDNN) to use the following CPU instructions in performance-critical operations:  AVX2 AVX512F FMA\n",
      "To enable them in other operations, rebuild TensorFlow with the appropriate compiler flags.\n",
      "2022-12-04 20:55:38.111128: I tensorflow/stream_executor/cuda/cuda_gpu_executor.cc:937] successful NUMA node read from SysFS had negative value (-1), but there must be at least one NUMA node, so returning NUMA node zero\n",
      "2022-12-04 20:55:38.111956: I tensorflow/stream_executor/cuda/cuda_gpu_executor.cc:937] successful NUMA node read from SysFS had negative value (-1), but there must be at least one NUMA node, so returning NUMA node zero\n",
      "2022-12-04 20:55:38.112723: I tensorflow/stream_executor/cuda/cuda_gpu_executor.cc:937] successful NUMA node read from SysFS had negative value (-1), but there must be at least one NUMA node, so returning NUMA node zero\n",
      "2022-12-04 20:55:38.113546: I tensorflow/stream_executor/cuda/cuda_gpu_executor.cc:937] successful NUMA node read from SysFS had negative value (-1), but there must be at least one NUMA node, so returning NUMA node zero\n",
      "2022-12-04 20:55:38.114324: I tensorflow/stream_executor/cuda/cuda_gpu_executor.cc:937] successful NUMA node read from SysFS had negative value (-1), but there must be at least one NUMA node, so returning NUMA node zero\n",
      "2022-12-04 20:55:38.115035: I tensorflow/stream_executor/cuda/cuda_gpu_executor.cc:937] successful NUMA node read from SysFS had negative value (-1), but there must be at least one NUMA node, so returning NUMA node zero\n",
      "2022-12-04 20:55:42.644550: I tensorflow/stream_executor/cuda/cuda_gpu_executor.cc:937] successful NUMA node read from SysFS had negative value (-1), but there must be at least one NUMA node, so returning NUMA node zero\n",
      "2022-12-04 20:55:42.645500: I tensorflow/stream_executor/cuda/cuda_gpu_executor.cc:937] successful NUMA node read from SysFS had negative value (-1), but there must be at least one NUMA node, so returning NUMA node zero\n",
      "2022-12-04 20:55:42.646249: I tensorflow/stream_executor/cuda/cuda_gpu_executor.cc:937] successful NUMA node read from SysFS had negative value (-1), but there must be at least one NUMA node, so returning NUMA node zero\n",
      "2022-12-04 20:55:42.646972: I tensorflow/stream_executor/cuda/cuda_gpu_executor.cc:937] successful NUMA node read from SysFS had negative value (-1), but there must be at least one NUMA node, so returning NUMA node zero\n",
      "2022-12-04 20:55:42.647729: I tensorflow/stream_executor/cuda/cuda_gpu_executor.cc:937] successful NUMA node read from SysFS had negative value (-1), but there must be at least one NUMA node, so returning NUMA node zero\n",
      "2022-12-04 20:55:42.648412: I tensorflow/core/common_runtime/gpu/gpu_device.cc:1510] Created device /job:localhost/replica:0/task:0/device:GPU:0 with 13789 MB memory:  -> device: 0, name: Tesla T4, pci bus id: 0000:00:04.0, compute capability: 7.5\n",
      "2022-12-04 20:55:42.653381: I tensorflow/stream_executor/cuda/cuda_gpu_executor.cc:937] successful NUMA node read from SysFS had negative value (-1), but there must be at least one NUMA node, so returning NUMA node zero\n",
      "2022-12-04 20:55:42.654098: I tensorflow/core/common_runtime/gpu/gpu_device.cc:1510] Created device /job:localhost/replica:0/task:0/device:GPU:1 with 13789 MB memory:  -> device: 1, name: Tesla T4, pci bus id: 0000:00:05.0, compute capability: 7.5\n"
     ]
    },
    {
     "name": "stdout",
     "output_type": "stream",
     "text": [
      "Found 22688 files belonging to 131 classes.\n",
      "Found 67692 images belonging to 131 classes.\n",
      "Found 22688 images belonging to 131 classes.\n"
     ]
    }
   ],
   "source": [
    "#based on https://www.kaggle.com/code/pankul/image-classification-w-vgg16-weights\n",
    "IMAGE_SIZE = [100, 100]  \n",
    "batch_size = 64\n",
    "nb_epochs = 10\n",
    "train_data_dir = '../input/fruits/fruits-360_dataset/fruits-360/Training'\n",
    "test_data_dir = '../input/fruits/fruits-360_dataset/fruits-360/Test'\n",
    "\n",
    "# getting the number of classes i.e. type of fruits\n",
    "folders = glob(train_data_dir + '/*')\n",
    "num_classes = len(folders)\n",
    "print ('Total Classes = ' + str(num_classes))\n",
    "\n",
    "train_ds = tf.keras.utils.image_dataset_from_directory(\n",
    "  train_data_dir,\n",
    "  image_size=IMAGE_SIZE,\n",
    "  batch_size=batch_size)\n",
    "\n",
    "test_ds = tf.keras.utils.image_dataset_from_directory(\n",
    "  test_data_dir,\n",
    "  image_size=IMAGE_SIZE,\n",
    "  batch_size=batch_size)\n",
    "\n",
    "datagen = ImageDataGenerator(rescale=1./255,preprocessing_function=preprocess_input)\n",
    "\n",
    "train_gen = datagen.flow_from_directory(train_data_dir, target_size = IMAGE_SIZE, batch_size = batch_size, class_mode = 'categorical')\n",
    "test_gen = datagen.flow_from_directory(test_data_dir, target_size = IMAGE_SIZE, batch_size = batch_size, class_mode = 'categorical')"
   ]
  },
  {
   "cell_type": "code",
   "execution_count": 3,
   "id": "35b9550b",
   "metadata": {
    "execution": {
     "iopub.execute_input": "2022-12-04T20:55:50.889378Z",
     "iopub.status.busy": "2022-12-04T20:55:50.889081Z",
     "iopub.status.idle": "2022-12-04T20:55:51.710328Z",
     "shell.execute_reply": "2022-12-04T20:55:51.709297Z"
    },
    "papermill": {
     "duration": 0.827699,
     "end_time": "2022-12-04T20:55:51.713154",
     "exception": false,
     "start_time": "2022-12-04T20:55:50.885455",
     "status": "completed"
    },
    "tags": []
   },
   "outputs": [
    {
     "name": "stdout",
     "output_type": "stream",
     "text": [
      "Downloading data from https://storage.googleapis.com/tensorflow/keras-applications/vgg16/vgg16_weights_tf_dim_ordering_tf_kernels_notop.h5\n",
      "58892288/58889256 [==============================] - 0s 0us/step\n",
      "58900480/58889256 [==============================] - 0s 0us/step\n"
     ]
    }
   ],
   "source": [
    "# loading the weights of VGG16 without the top layer. These weights are trained on Imagenet dataset.\n",
    "vgg = VGG16(input_shape = IMAGE_SIZE + [3], weights = 'imagenet', include_top = False)\n",
    "\n",
    "# this will exclude the initial layers from training phase as there are already been trained.\n",
    "for layer in vgg.layers:\n",
    "    layer.trainable = False\n",
    "\n",
    "x = Flatten()(vgg.output)\n",
    "x = Dense(1024, activation = 'relu')(x)\n",
    "x = Dense(256, activation = 'relu')(x)\n",
    "x = Dense(num_classes, activation = 'softmax')(x)\n",
    "model = Model(inputs = vgg.input, outputs = x)\n",
    "\n",
    "model.compile(loss='categorical_crossentropy', optimizer='adam', metrics=['acc'])"
   ]
  },
  {
   "cell_type": "code",
   "execution_count": 4,
   "id": "c5e14595",
   "metadata": {
    "execution": {
     "iopub.execute_input": "2022-12-04T20:55:51.722409Z",
     "iopub.status.busy": "2022-12-04T20:55:51.720516Z",
     "iopub.status.idle": "2022-12-04T20:55:51.726335Z",
     "shell.execute_reply": "2022-12-04T20:55:51.725344Z"
    },
    "papermill": {
     "duration": 0.012245,
     "end_time": "2022-12-04T20:55:51.728583",
     "exception": false,
     "start_time": "2022-12-04T20:55:51.716338",
     "status": "completed"
    },
    "tags": []
   },
   "outputs": [],
   "source": [
    "earlystop = EarlyStopping(\n",
    "    monitor='val_acc',\n",
    "    min_delta=0.005,\n",
    "    patience=5,\n",
    "    verbose=1,\n",
    ")"
   ]
  },
  {
   "cell_type": "code",
   "execution_count": 5,
   "id": "21ca6ac7",
   "metadata": {
    "execution": {
     "iopub.execute_input": "2022-12-04T20:55:51.735655Z",
     "iopub.status.busy": "2022-12-04T20:55:51.735376Z",
     "iopub.status.idle": "2022-12-04T21:37:27.517728Z",
     "shell.execute_reply": "2022-12-04T21:37:27.516791Z"
    },
    "papermill": {
     "duration": 2496.448526,
     "end_time": "2022-12-04T21:37:28.180161",
     "exception": false,
     "start_time": "2022-12-04T20:55:51.731635",
     "status": "completed"
    },
    "tags": []
   },
   "outputs": [
    {
     "name": "stderr",
     "output_type": "stream",
     "text": [
      "2022-12-04 20:55:52.243396: I tensorflow/compiler/mlir/mlir_graph_optimization_pass.cc:185] None of the MLIR Optimization Passes are enabled (registered 2)\n"
     ]
    },
    {
     "name": "stdout",
     "output_type": "stream",
     "text": [
      "Epoch 1/30\n"
     ]
    },
    {
     "name": "stderr",
     "output_type": "stream",
     "text": [
      "2022-12-04 20:55:55.212543: I tensorflow/stream_executor/cuda/cuda_dnn.cc:369] Loaded cuDNN version 8005\n"
     ]
    },
    {
     "name": "stdout",
     "output_type": "stream",
     "text": [
      "1058/1058 [==============================] - 619s 572ms/step - loss: 0.3102 - acc: 0.9332 - val_loss: 0.3338 - val_acc: 0.9165\n",
      "Epoch 2/30\n",
      "1058/1058 [==============================] - 184s 174ms/step - loss: 0.0294 - acc: 0.9926 - val_loss: 0.1923 - val_acc: 0.9514\n",
      "Epoch 3/30\n",
      "1058/1058 [==============================] - 183s 173ms/step - loss: 0.0282 - acc: 0.9921 - val_loss: 0.3150 - val_acc: 0.9294\n",
      "Epoch 4/30\n",
      "1058/1058 [==============================] - 183s 172ms/step - loss: 0.0230 - acc: 0.9933 - val_loss: 0.6527 - val_acc: 0.8954\n",
      "Epoch 5/30\n",
      "1058/1058 [==============================] - 182s 172ms/step - loss: 0.0171 - acc: 0.9952 - val_loss: 0.3759 - val_acc: 0.9252\n",
      "Epoch 6/30\n",
      "1058/1058 [==============================] - 183s 173ms/step - loss: 0.0050 - acc: 0.9988 - val_loss: 0.1790 - val_acc: 0.9680\n",
      "Epoch 7/30\n",
      "1058/1058 [==============================] - 181s 171ms/step - loss: 1.6978e-05 - acc: 1.0000 - val_loss: 0.1837 - val_acc: 0.9666\n",
      "Epoch 8/30\n",
      "1058/1058 [==============================] - 192s 181ms/step - loss: 1.0840e-05 - acc: 1.0000 - val_loss: 0.1665 - val_acc: 0.9708\n",
      "Epoch 9/30\n",
      "1058/1058 [==============================] - 190s 180ms/step - loss: 4.8163e-06 - acc: 1.0000 - val_loss: 0.1655 - val_acc: 0.9715\n",
      "Epoch 10/30\n",
      "1058/1058 [==============================] - 180s 170ms/step - loss: 2.8862e-06 - acc: 1.0000 - val_loss: 0.1677 - val_acc: 0.9718\n",
      "Epoch 11/30\n",
      "1058/1058 [==============================] - 179s 169ms/step - loss: 1.8041e-06 - acc: 1.0000 - val_loss: 0.1680 - val_acc: 0.9725\n",
      "Epoch 00011: early stopping\n"
     ]
    }
   ],
   "source": [
    "history = model.fit(train_gen,  \n",
    "                   epochs = 30,  \n",
    "                   validation_data = test_gen,\n",
    "                   callbacks=[earlystop,]) "
   ]
  },
  {
   "cell_type": "code",
   "execution_count": 6,
   "id": "2c3f3d88",
   "metadata": {
    "execution": {
     "iopub.execute_input": "2022-12-04T21:37:29.428240Z",
     "iopub.status.busy": "2022-12-04T21:37:29.427851Z",
     "iopub.status.idle": "2022-12-04T21:37:50.870856Z",
     "shell.execute_reply": "2022-12-04T21:37:50.870025Z"
    },
    "papermill": {
     "duration": 22.053459,
     "end_time": "2022-12-04T21:37:50.873598",
     "exception": false,
     "start_time": "2022-12-04T21:37:28.820139",
     "status": "completed"
    },
    "tags": []
   },
   "outputs": [
    {
     "data": {
      "image/png": "[encoded data removed]",
      "text/plain": [
       "<Figure size 432x288 with 1 Axes>"
      ]
     },
     "metadata": {
      "needs_background": "light"
     },
     "output_type": "display_data"
    },
    {
     "data": {
      "image/png": "[encoded data removed]",
      "text/plain": [
       "<Figure size 432x288 with 1 Axes>"
      ]
     },
     "metadata": {
      "needs_background": "light"
     },
     "output_type": "display_data"
    }
   ],
   "source": [
    "acc = history.history['acc']\n",
    "val_acc = history.history['val_acc']\n",
    "loss = history.history['loss']\n",
    "val_loss = history.history['val_loss']\n",
    "\n",
    "epochs = range(len(acc))\n",
    "\n",
    "plt.plot(epochs, acc, 'bo', label='Training acc')\n",
    "plt.plot(epochs, val_acc, 'b', label='Validation acc')\n",
    "plt.title('Training and validation accuracy')\n",
    "plt.legend()\n",
    "\n",
    "plt.figure()\n",
    "\n",
    "plt.plot(epochs, loss, 'bo', label='Training loss')\n",
    "plt.plot(epochs, val_loss, 'b', label='Validation loss')\n",
    "plt.title('Training and validation loss')\n",
    "plt.legend()\n",
    "\n",
    "plt.show()"
   ]
  }
 ],
 "metadata": {
  "kernelspec": {
   "display_name": "Python 3",
   "language": "python",
   "name": "python3"
  },
  "language_info": {
   "codemirror_mode": {
    "name": "ipython",
    "version": 3
   },
   "file_extension": ".py",
   "mimetype": "text/x-python",
   "name": "python",
   "nbconvert_exporter": "python",
   "pygments_lexer": "ipython3",
   "version": "3.7.12"
  },
  "papermill": {
   "default_parameters": {},
   "duration": 2568.605896,
   "end_time": "2022-12-04T21:37:55.395258",
   "environment_variables": {},
   "exception": null,
   "input_path": "__notebook__.ipynb",
   "output_path": "__notebook__.ipynb",
   "parameters": {},
   "start_time": "2022-12-04T20:55:06.789362",
   "version": "2.3.4"
  }
 },
 "nbformat": 4,
 "nbformat_minor": 5
}
